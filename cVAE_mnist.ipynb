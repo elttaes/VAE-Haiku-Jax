{
  "cells": [
    {
      "cell_type": "code",
      "source": [
        "!pip install dm-haiku\n",
        "!pip install optax"
      ],
      "metadata": {
        "colab": {
          "base_uri": "https://localhost:8080/"
        },
        "id": "I__NrWlRA9Rw",
        "outputId": "692eb677-7ff1-4e9e-d508-86bfb63c15d0"
      },
      "execution_count": 1,
      "outputs": [
        {
          "output_type": "stream",
          "name": "stdout",
          "text": [
            "Looking in indexes: https://pypi.org/simple, https://us-python.pkg.dev/colab-wheels/public/simple/\n",
            "Collecting dm-haiku\n",
            "  Downloading dm_haiku-0.0.9-py3-none-any.whl (352 kB)\n",
            "\u001b[K     |████████████████████████████████| 352 kB 5.0 MB/s \n",
            "\u001b[?25hRequirement already satisfied: absl-py>=0.7.1 in /usr/local/lib/python3.8/dist-packages (from dm-haiku) (1.3.0)\n",
            "Requirement already satisfied: numpy>=1.18.0 in /usr/local/lib/python3.8/dist-packages (from dm-haiku) (1.21.6)\n",
            "Collecting jmp>=0.0.2\n",
            "  Downloading jmp-0.0.2-py3-none-any.whl (16 kB)\n",
            "Requirement already satisfied: tabulate>=0.8.9 in /usr/local/lib/python3.8/dist-packages (from dm-haiku) (0.8.10)\n",
            "Installing collected packages: jmp, dm-haiku\n",
            "Successfully installed dm-haiku-0.0.9 jmp-0.0.2\n",
            "Looking in indexes: https://pypi.org/simple, https://us-python.pkg.dev/colab-wheels/public/simple/\n",
            "Collecting optax\n",
            "  Downloading optax-0.1.4-py3-none-any.whl (154 kB)\n",
            "\u001b[K     |████████████████████████████████| 154 kB 5.0 MB/s \n",
            "\u001b[?25hRequirement already satisfied: numpy>=1.18.0 in /usr/local/lib/python3.8/dist-packages (from optax) (1.21.6)\n",
            "Requirement already satisfied: absl-py>=0.7.1 in /usr/local/lib/python3.8/dist-packages (from optax) (1.3.0)\n",
            "Requirement already satisfied: jax>=0.1.55 in /usr/local/lib/python3.8/dist-packages (from optax) (0.3.25)\n",
            "Requirement already satisfied: typing-extensions>=3.10.0 in /usr/local/lib/python3.8/dist-packages (from optax) (4.4.0)\n",
            "Collecting chex>=0.1.5\n",
            "  Downloading chex-0.1.5-py3-none-any.whl (85 kB)\n",
            "\u001b[K     |████████████████████████████████| 85 kB 5.0 MB/s \n",
            "\u001b[?25hRequirement already satisfied: jaxlib>=0.1.37 in /usr/local/lib/python3.8/dist-packages (from optax) (0.3.25+cuda11.cudnn805)\n",
            "Requirement already satisfied: dm-tree>=0.1.5 in /usr/local/lib/python3.8/dist-packages (from chex>=0.1.5->optax) (0.1.7)\n",
            "Requirement already satisfied: toolz>=0.9.0 in /usr/local/lib/python3.8/dist-packages (from chex>=0.1.5->optax) (0.12.0)\n",
            "Requirement already satisfied: scipy>=1.5 in /usr/local/lib/python3.8/dist-packages (from jax>=0.1.55->optax) (1.7.3)\n",
            "Requirement already satisfied: opt-einsum in /usr/local/lib/python3.8/dist-packages (from jax>=0.1.55->optax) (3.3.0)\n",
            "Installing collected packages: chex, optax\n",
            "Successfully installed chex-0.1.5 optax-0.1.4\n"
          ]
        }
      ]
    },
    {
      "cell_type": "code",
      "execution_count": 32,
      "metadata": {
        "colab": {
          "base_uri": "https://localhost:8080/",
          "height": 549
        },
        "id": "LBB4FRXAA5BT",
        "outputId": "bb8d04af-504a-42a2-c353-d67633233b5d"
      },
      "outputs": [
        {
          "output_type": "stream",
          "name": "stderr",
          "text": [
            "100%|██████████| 937/937 [00:15<00:00, 59.32it/s]\n"
          ]
        },
        {
          "output_type": "display_data",
          "data": {
            "text/plain": [
              "<Figure size 432x288 with 1 Axes>"
            ],
            "image/png": "[encoded data removed]"
          },
          "metadata": {
            "needs_background": "light"
          }
        },
        {
          "output_type": "stream",
          "name": "stderr",
          "text": [
            "100%|██████████| 937/937 [00:13<00:00, 68.79it/s]\n"
          ]
        },
        {
          "output_type": "display_data",
          "data": {
            "text/plain": [
              "<Figure size 432x288 with 1 Axes>"
            ],
            "image/png": "[encoded data removed]"
          },
          "metadata": {
            "needs_background": "light"
          }
        }
      ],
      "source": [
        "from torchvision import datasets, transforms\n",
        "import numpy as np\n",
        "from torch.utils.data import DataLoader\n",
        "import haiku as hk\n",
        "import jax\n",
        "import jax.numpy as jnp\n",
        "import numpy as np\n",
        "from typing import List\n",
        "import optax\n",
        "import matplotlib.pyplot as plt\n",
        "from tqdm import tqdm\n",
        "import pickle\n",
        "\n",
        "data_path = './'\n",
        "\n",
        "mnist_train = datasets.MNIST(data_path, train=True, download=True, transform=transforms.Compose([\n",
        "    transforms.ToTensor()\n",
        "]))\n",
        "\n",
        "mnist_val = datasets.MNIST(data_path, train=False, download=True, transform=transforms.Compose([\n",
        "    transforms.ToTensor()\n",
        "]))\n",
        "\n",
        "train_loader = DataLoader(mnist_train, batch_size=64,\n",
        "                          shuffle=True, pin_memory=True, drop_last=True)\n",
        "\n",
        "val_loader = DataLoader(mnist_val, batch_size=1,\n",
        "                        shuffle=False, pin_memory=True, drop_last=True)\n",
        "\n",
        "\n",
        "class VAE_Encoder(hk.Module):\n",
        "    def __init__(self, hidden_dims: List = None, name='VAE_Encoder'):\n",
        "        super().__init__(name=name)\n",
        "        if hidden_dims is None:\n",
        "            hidden_dims = [64, 64]\n",
        "        self.modules = []\n",
        "        for h_dim in hidden_dims:\n",
        "            self.modules.append((hk.Conv2D(output_channels=h_dim,\n",
        "                                           kernel_shape=3, stride=2, padding=[1, 1]), hk.BatchNorm(create_scale=True, create_offset=True, decay_rate=0.999)))\n",
        "        self.fc_mu = hk.Linear(2)\n",
        "        self.fc_var = hk.Linear(2)\n",
        "\n",
        "    def __call__(self, x):\n",
        "        for layer_i, bn_i in self.modules:\n",
        "            x = layer_i(x)\n",
        "            x = bn_i(x, is_training=True)\n",
        "            x = jax.nn.leaky_relu(x)\n",
        "        x = hk.Flatten()(x)\n",
        "        mean = self.fc_mu(x)\n",
        "        log_std = self.fc_var(x)\n",
        "        return [mean, log_std]\n",
        "\n",
        "\n",
        "class VAE_Decoder(hk.Module):\n",
        "    def __init__(self, hidden_dims: List = None, name='VAE_Decoder'):\n",
        "        super().__init__(name=name)\n",
        "        if hidden_dims is None:\n",
        "            self.hidden_dims = [64, 64]\n",
        "        self.modules = []\n",
        "        self.conv_dim = 7\n",
        "        for h_dim in self.hidden_dims:\n",
        "            self.modules.append((hk.Conv2DTranspose(output_channels=h_dim,\n",
        "                                                    kernel_shape=3, stride=2), hk.BatchNorm(create_scale=True, create_offset=True, decay_rate=0.999)))\n",
        "        self.finally_Linear = hk.Linear(1)\n",
        "        self.decoder_input = hk.Linear(self.conv_dim*self.conv_dim*self.hidden_dims[-1])\n",
        "\n",
        "    def __call__(self, x):\n",
        "        x = self.decoder_input(x)\n",
        "        x = x.reshape(-1, self.conv_dim, self.conv_dim, self.hidden_dims[-1])\n",
        "        for layer_i, bn_i in self.modules:\n",
        "            x = layer_i(x)\n",
        "            x = bn_i(x, is_training=True)\n",
        "            x = jax.nn.leaky_relu(x)\n",
        "        x = self.finally_Linear(x)\n",
        "        x = jax.nn.sigmoid(x)\n",
        "        return x\n",
        "\n",
        "def reparameterize(mean, stddev):\n",
        "    z = mean + stddev * jax.random.normal(hk.next_rng_key(), mean.shape)\n",
        "    return z\n",
        "\n",
        "def vae(batch):\n",
        "    x, y = batch[0], batch[1]\n",
        "    mu, log_var = VAE_Encoder()(x)\n",
        "    z = reparameterize(mu, log_var)\n",
        "    y = jax.nn.one_hot(y,10)\n",
        "    z = jnp.concatenate([z, y], axis=1)\n",
        "    z = VAE_Decoder()(z)\n",
        "    return [z, x, mu, log_var]\n",
        "\n",
        "def vae_loss(params: hk.Params, state, batch):\n",
        "    loss_input, state = vae.apply(params, state, rng_key, batch)\n",
        "    recons = loss_input[0]\n",
        "    ori_image = loss_input[1]\n",
        "    mean = loss_input[2]\n",
        "    var = loss_input[3]\n",
        "    recons_loss = optax.l2_loss(recons, ori_image[:,:,:,:1])\n",
        "    kld_loss = jnp.mean(-0.5 * jnp.sum(1 + var - mean**2 -\n",
        "                        jnp.exp(var), axis=1), axis=0)\n",
        "    loss = recons_loss + kld_loss* 0.00025\n",
        "    return loss.mean()\n",
        "\n",
        "vae = hk.transform_with_state(vae)\n",
        "dummy_x = jnp.array(np.random.rand(8, 28, 28, 2))\n",
        "dummy_y = jnp.array(np.random.rand(8))\n",
        "rng_key = jax.random.PRNGKey(42)\n",
        "params, state = vae.init(rng=rng_key, batch=[dummy_x,dummy_y])\n",
        "\n",
        "optimizer = optax.adamw(learning_rate=0.001)\n",
        "opt_state = optimizer.init(params)\n",
        "\n",
        "@jax.jit\n",
        "def step(params, opt_state, state, batch):\n",
        "    loss_value, grads = jax.value_and_grad(vae_loss)(params, state, batch)\n",
        "    updates, opt_state = optimizer.update(grads, opt_state, params)\n",
        "    params = optax.apply_updates(params, updates)\n",
        "    return params, opt_state, loss_value\n",
        "\n",
        "for epoch in range(2):\n",
        "    for x, y in tqdm(train_loader):\n",
        "        x = jnp.array(x)\n",
        "        y = jnp.array(y)\n",
        "        y_1 = jnp.tile(y[:,None,None,None], (1, 1, 28, 28))\n",
        "        x = jnp.concatenate((x,y_1), axis=1)\n",
        "        x = jnp.transpose(x, (0, 2, 3, 1))\n",
        "        params, opt_state, loss_value = step(params, opt_state, state,[x ,y])\n",
        "    [x, y] = next(iter(val_loader))\n",
        "    x = jnp.array(x)\n",
        "    y = jnp.array([7])\n",
        "    y_1 = jnp.tile(y[:,None,None,None], (1, 1, 28, 28))\n",
        "    x = jnp.concatenate((x,y_1), axis=1)\n",
        "    x = jnp.transpose(x, (0, 2, 3, 1))\n",
        "    res,state = vae.apply(params, state,rng_key, [x,y])\n",
        "    plt.imshow(res[0][0].reshape(28,28))\n",
        "    plt.show()\n"
      ]
    },
    {
      "cell_type": "code",
      "execution_count": 22,
      "metadata": {
        "colab": {
          "base_uri": "https://localhost:8080/",
          "height": 513
        },
        "id": "jURn4QMmA5BW",
        "outputId": "66165f83-5b10-449f-a776-35187e7e3bff"
      },
      "outputs": [
        {
          "output_type": "display_data",
          "data": {
            "text/plain": [
              "<Figure size 432x288 with 1 Axes>"
            ],
            "image/png": "[encoded data removed]"
          },
          "metadata": {
            "needs_background": "light"
          }
        },
        {
          "output_type": "display_data",
          "data": {
            "text/plain": [
              "<Figure size 432x288 with 1 Axes>"
            ],
            "image/png": "[encoded data removed]"
          },
          "metadata": {
            "needs_background": "light"
          }
        }
      ],
      "source": [
        "for i, (x, y) in enumerate(val_loader):\n",
        "    x = jnp.array(x)\n",
        "    y = jnp.array([9])\n",
        "    y_1 = y.reshape(-1, 1, 1, 1)\n",
        "    y_1 = jnp.tile(y_1, (1, 1, 28, 28))\n",
        "    x = jnp.concatenate((x,y_1), axis=1)\n",
        "    x = jnp.transpose(x, (0, 2, 3, 1))\n",
        "    res,state = vae.apply(params, state,rng_key, [x,y])\n",
        "    plt.imshow(res[0][0].reshape(28,28))\n",
        "    plt.show()\n",
        "    if(i==1):break"
      ]
    }
  ],
  "metadata": {
    "kernelspec": {
      "display_name": "jax",
      "language": "python",
      "name": "python3"
    },
    "language_info": {
      "codemirror_mode": {
        "name": "ipython",
        "version": 3
      },
      "file_extension": ".py",
      "mimetype": "text/x-python",
      "name": "python",
      "nbconvert_exporter": "python",
      "pygments_lexer": "ipython3",
      "version": "3.10.8"
    },
    "orig_nbformat": 4,
    "vscode": {
      "interpreter": {
        "hash": "6ca827470d92fe33161584d76478b0914aa830071044d48c725bfc4a4a385a39"
      }
    },
    "colab": {
      "provenance": []
    },
    "accelerator": "GPU",
    "gpuClass": "standard"
  },
  "nbformat": 4,
  "nbformat_minor": 0
}